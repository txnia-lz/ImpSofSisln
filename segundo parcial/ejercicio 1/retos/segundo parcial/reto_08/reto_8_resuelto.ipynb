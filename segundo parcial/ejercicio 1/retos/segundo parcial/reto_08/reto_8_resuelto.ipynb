{
 "cells": [
  {
   "cell_type": "code",
   "execution_count": null,
   "id": "8ccb5d61-7c56-4b9d-984b-6922b84b07d5",
   "metadata": {},
   "outputs": [
    {
     "name": "stdout",
     "output_type": "stream",
     "text": [
      "3 fizz\n",
      "5 buzz\n",
      "6 fizz\n",
      "9 fizz\n",
      "10 buzz\n",
      "12 fizz\n",
      "15 fizzbuzz\n",
      "18 fizz\n",
      "20 buzz\n",
      "21 fizz\n",
      "24 fizz\n",
      "25 buzz\n",
      "27 fizz\n",
      "30 fizzbuzz\n",
      "33 fizz\n",
      "35 buzz\n",
      "36 fizz\n",
      "39 fizz\n",
      "40 buzz\n",
      "42 fizz\n",
      "45 fizzbuzz\n",
      "48 fizz\n",
      "50 buzz\n",
      "51 fizz\n",
      "54 fizz\n",
      "55 buzz\n",
      "57 fizz\n",
      "60 fizzbuzz\n",
      "63 fizz\n",
      "65 buzz\n",
      "66 fizz\n",
      "69 fizz\n",
      "70 buzz\n",
      "72 fizz\n",
      "75 fizzbuzz\n",
      "78 fizz\n",
      "80 buzz\n",
      "81 fizz\n",
      "84 fizz\n",
      "85 buzz\n",
      "87 fizz\n",
      "90 fizzbuzz\n",
      "93 fizz\n",
      "95 buzz\n",
      "96 fizz\n",
      "99 fizz\n"
     ]
    }
   ],
   "source": [
    "\"\"\"\n",
    "Usaremos este script para enseñar Python a principiantes absolutos.\n",
    "El script es un ejemplo de Fizz-Buzz implementado en Python.\n",
    "\n",
    "El problema de FizzBuzz:\n",
    "Para todos los enteros entre 1 y 99 (incluidos ambos):\n",
    "# imprimir fizz para múltiplos de 3\n",
    "# imprimir buzz para múltiplos de 5\n",
    "# imprimir fizzbuzz para múltiplos de 3 y 5\n",
    "\"\"\"\n",
    "\n",
    "class Fizz_Buzz:\n",
    "    def fizzbuzz(max_num):\n",
    "        \n",
    "        three_mul = 'fizz'\n",
    "        five_mul = 'buzz'\n",
    "        num1 = 3\n",
    "        num2 = 5 \n",
    "\n",
    "        for i in range(1,max_num):\n",
    "            if i%num1==0 and i%num2==0:\n",
    "                print(i,three_mul+five_mul)\n",
    "            elif i%num1==0:\n",
    "                print(i,three_mul)\n",
    "            elif i%num2==0:\n",
    "                print(i,five_mul)\n",
    "\n",
    "#----START OF SCRIPT\n",
    "if __name__=='__main__':\n",
    "    \"Initialize the fizzbuzz object\"\n",
    "    fizzbuzz_obj = Fizz_Buzz\n",
    "    fizzbuzz_obj.fizzbuzz(100)\n",
    "\n"
   ]
  },
  {
   "cell_type": "code",
   "execution_count": null,
   "id": "9419b985",
   "metadata": {},
   "outputs": [],
   "source": []
  }
 ],
 "metadata": {
  "kernelspec": {
   "display_name": "Python [conda env:base] *",
   "language": "python",
   "name": "conda-base-py"
  },
  "language_info": {
   "codemirror_mode": {
    "name": "ipython",
    "version": 3
   },
   "file_extension": ".py",
   "mimetype": "text/x-python",
   "name": "python",
   "nbconvert_exporter": "python",
   "pygments_lexer": "ipython3",
   "version": "3.12.7"
  }
 },
 "nbformat": 4,
 "nbformat_minor": 5
}
